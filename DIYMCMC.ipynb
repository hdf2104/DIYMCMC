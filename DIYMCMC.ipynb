{
 "cells": [
  {
   "cell_type": "code",
   "execution_count": 4,
   "metadata": {
    "collapsed": false
   },
   "outputs": [],
   "source": [
    "import numpy as np\n",
    "import matplotlib.pyplot as plt\n",
    "%matplotlib inline\n",
    "\n",
    "import diymcmc\n"
   ]
  },
  {
   "cell_type": "markdown",
   "metadata": {},
   "source": [
    "We've written a convenience function to grab the test data:"
   ]
  },
  {
   "cell_type": "code",
   "execution_count": 5,
   "metadata": {
    "collapsed": false
   },
   "outputs": [],
   "source": [
    "x,y,sigma_y = diymcmc.get_data1()"
   ]
  },
  {
   "cell_type": "markdown",
   "metadata": {},
   "source": [
    "Start by plotting the data -- just make an `errorbar()` plot with the provided data."
   ]
  },
  {
   "cell_type": "code",
   "execution_count": 6,
   "metadata": {
    "collapsed": false
   },
   "outputs": [
    {
     "name": "stdout",
     "output_type": "stream",
     "text": [
      "[ 9.80602906  1.92413408  0.69817509  1.64791747  9.69062033  0.23115729\n",
      "  4.73789589  2.27713428  6.16194938  4.80375187  4.71745821  7.06119318\n",
      "  5.30108679  1.46165884  2.01562124  2.6186184   9.42697095  3.59911453\n",
      "  6.45915251  8.37594921  7.78562906  4.75363884  2.686037    5.72290324\n",
      "  6.79881177  2.38032399  0.50913421  1.24518858  1.80480921  1.33675464\n",
      "  2.77750087  3.50485568  7.09529919  4.81060404  0.51925984  8.04860547\n",
      "  9.2452808   8.52206555  1.18351409  1.71672952  5.06470842  8.17352545\n",
      "  5.94364369  9.51623076  1.20843413  1.38419241  0.38955952  7.4902482\n",
      "  7.34038969  0.2489162 ]\n",
      "[ 11.29875307  11.41411262   9.59927316  10.01910454  10.49066646\n",
      "   9.87818199  10.74781541   9.40462326  10.81944945   9.77560214\n",
      "   9.82713203   9.87727259   9.98850476  10.81259293   9.65047802\n",
      "   9.26339302  11.49426917  11.72483813  10.62654593  11.64163386\n",
      "  11.10264105  11.00591574   9.57985171  11.01072896  12.04404596\n",
      "  11.35779377   9.415602    10.06361006  10.95874676  10.38450028\n",
      "   9.87494284  10.78903478  11.43418961   9.45843778   9.88799615\n",
      "  11.37107111  11.14875791  10.51540035   8.67289047   9.74692848\n",
      "  10.45855495  10.27442434  11.83802041  11.03513648  10.34328941\n",
      "   9.22987257   8.73016665  11.12750415  11.60291948  10.06751741]\n"
     ]
    },
    {
     "data": {
      "image/png": "[encoded data removed]",
      "text/plain": [
       "<matplotlib.figure.Figure at 0x106151350>"
      ]
     },
     "metadata": {},
     "output_type": "display_data"
    }
   ],
   "source": [
    "# MAKE PLOT\n",
    "print x\n",
    "print y\n",
    "\n",
    "plt.scatter(x,y)\n",
    "plt.errorbar(x,y,sigma_y, linestyle='None')\n",
    "plt.xlim(0,10)\n",
    "plt.savefig('MCMC.pdf')"
   ]
  },
  {
   "cell_type": "markdown",
   "metadata": {},
   "source": [
    "What model should we use for the data? Why? Create a function to evaluate this model for a given choice of parameters and `x` data:"
   ]
  },
  {
   "cell_type": "code",
   "execution_count": 7,
   "metadata": {
    "collapsed": false
   },
   "outputs": [],
   "source": [
    "def model(pars, x):\n",
    "    # the `pars` argument is a list of parameter values, e.g., pars = [m, b] for a line\n",
    "    m,b = pars\n",
    "    print pars\n",
    "    print x\n",
    "    y_val= m*x + b\n",
    "    return y_val\n",
    "    pass"
   ]
  },
  {
   "cell_type": "markdown",
   "metadata": {},
   "source": [
    "---\n",
    "\n",
    "We'll start with the assumption that the data are independent and identically distributed so that the likelihood is simply a product of Gaussians (one big Gaussian). We'll also assume that the uncertainties reported are correct, and that there are no uncertainties on the `x` data. We need to define a function that will evaluate the (ln)likelihood of the data, given a particular choice of your model parameters. A good way to structure this function is as follows:"
   ]
  },
  {
   "cell_type": "code",
   "execution_count": 8,
   "metadata": {
    "collapsed": false
   },
   "outputs": [],
   "source": [
    "def ln_likelihood(pars, x, y, y_unc):\n",
    "    # we will pass the parameters (pars) to the model function\n",
    "    # the other arguments are the data\n",
    "    m,b = pars\n",
    "    print pars\n",
    "    y_val= m*x + b\n",
    "    lnlike= -0.5* np.sum((y-y_val)**2/sigma_y**2))\n",
    "    return lnlike\n",
    "    pass "
   ]
  },
  {
   "cell_type": "markdown",
   "metadata": {},
   "source": [
    "What about priors? Remember your prior only depends on the model parameters, but be careful about what kind of prior you are specifying for each parameter. Do we need to properly normalize the probabilities?"
   ]
  },
  {
   "cell_type": "code",
   "execution_count": null,
   "metadata": {
    "collapsed": false
   },
   "outputs": [],
   "source": [
    "def ln_prior(pars):\n",
    "    m,b = pars\n",
    "    x= 1\n",
    "    y= np.log(x)\n",
    "    return y\n",
    "    #idk what toreturn y do here but i think i have to set different values for bot.h m and b\n",
    "    #if blah < m and BLAH < b\n",
    "        #return \n",
    "    #return -np.inf\n",
    "    pass"
   ]
  },
  {
   "cell_type": "markdown",
   "metadata": {},
   "source": [
    "Now we can define a function that evaluates the (ln)posterior probability, which is just the sum of the ln prior and ln likelihood:"
   ]
  },
  {
   "cell_type": "code",
   "execution_count": null,
   "metadata": {
    "collapsed": false
   },
   "outputs": [],
   "source": [
    "def ln_posterior(pars, x, y, y_unc):\n",
    "    return ln_prior(pars) + ln_likelihood(pars, x, y, y_unc)"
   ]
  },
  {
   "cell_type": "markdown",
   "metadata": {},
   "source": [
    "Now write a function to actually run a Metropolis-Hastings MCMC sampler. Ford (2005) includes a great step-by-step walkthrough of the Metropolis-Hastings algorithm, and we'll base our code on that"
   ]
  },
  {
   "cell_type": "code",
   "execution_count": null,
   "metadata": {
    "collapsed": false
   },
   "outputs": [],
   "source": [
    "def run_mcmc(ln_posterior, nsteps, ndim, p0, stepsize, args=()):\n",
    "    \n",
    "    # Set up the chain, and initialize it\n",
    "   \n",
    "    \n",
    "    # Set up an array to hold the probabilities at each step\n",
    "    \n",
    "    # Calculate the probability for the first step\n",
    "    \n",
    "    # Loop for nsteps\n",
    "    for i in np.linspace(1,nsteps-1,nsteps-1):\n",
    "        # Randomly choose new model parameters for the trial state\n",
    "        \n",
    "        # Calculate the probability for the new state\n",
    "        \n",
    "        # Compare it to the probability of the old state\n",
    "        # Using the acceptance probability function\n",
    "        \n",
    "        # Chose a random number u between 0 and 1 to compare with p_accept\n",
    "        \n",
    "        # If p_accept>1 or p_accept>u, accept the step\n",
    "            # Save the position to the chain\n",
    "            \n",
    "            # Save the probability to that array\n",
    "            \n",
    "        # Else, do not accept the step\n",
    "            # Set the position and probability are equal to the last value\n",
    "            \n",
    "    # Return the chain and probabilities"
   ]
  },
  {
   "cell_type": "markdown",
   "metadata": {},
   "source": [
    "Now run the MCMC code on the data provided."
   ]
  },
  {
   "cell_type": "code",
   "execution_count": null,
   "metadata": {
    "collapsed": false
   },
   "outputs": [],
   "source": [
    "# run it!"
   ]
  },
  {
   "cell_type": "markdown",
   "metadata": {},
   "source": [
    "Plot the position of the walker as a function of step number for each of the parameters. Are the chains converged? "
   ]
  },
  {
   "cell_type": "code",
   "execution_count": null,
   "metadata": {
    "collapsed": false
   },
   "outputs": [],
   "source": []
  },
  {
   "cell_type": "markdown",
   "metadata": {},
   "source": [
    "Make histograms of the samples for each parameter. Should you include all of the samples? "
   ]
  },
  {
   "cell_type": "code",
   "execution_count": null,
   "metadata": {
    "collapsed": false
   },
   "outputs": [],
   "source": []
  },
  {
   "cell_type": "markdown",
   "metadata": {},
   "source": [
    "Report to us your constraints on the model parameters -- you have some freedom in interpreting what this means..."
   ]
  },
  {
   "cell_type": "code",
   "execution_count": null,
   "metadata": {
    "collapsed": false
   },
   "outputs": [],
   "source": []
  }
 ],
 "metadata": {
  "kernelspec": {
   "display_name": "Python 2",
   "language": "python",
   "name": "python2"
  },
  "language_info": {
   "codemirror_mode": {
    "name": "ipython",
    "version": 2
   },
   "file_extension": ".py",
   "mimetype": "text/x-python",
   "name": "python",
   "nbconvert_exporter": "python",
   "pygments_lexer": "ipython2",
   "version": "2.7.9"
  }
 },
 "nbformat": 4,
 "nbformat_minor": 0
}
